{
  "nbformat": 4,
  "nbformat_minor": 0,
  "metadata": {
    "colab": {
      "name": "sample.ipynb",
      "provenance": [],
      "collapsed_sections": [],
      "mount_file_id": "1WsPV0oKKLOLNPEDD3w7v7YqP294NtX8O",
      "authorship_tag": "ABX9TyNY2hnohUsdVh08dLoBQkpA",
      "include_colab_link": true
    },
    "kernelspec": {
      "name": "python3",
      "display_name": "Python 3"
    }
  },
  "cells": [
    {
      "cell_type": "markdown",
      "metadata": {
        "id": "view-in-github",
        "colab_type": "text"
      },
      "source": [
        "<a href=\"https://colab.research.google.com/github/Sriakhilarigela/Mini-project-image-classification/blob/master/sample.ipynb\" target=\"_parent\"><img src=\"https://colab.research.google.com/assets/colab-badge.svg\" alt=\"Open In Colab\"/></a>"
      ]
    },
    {
      "cell_type": "code",
      "metadata": {
        "id": "7vCfIdXlv6zS",
        "colab_type": "code",
        "colab": {}
      },
      "source": [
        "import os\n",
        "import numpy as np\n",
        "import pandas as pd\n",
        "import matplotlib.pyplot as plt\n",
        "import pickle\n",
        "import random\n",
        "from sklearn.model_selection import train_test_split\n",
        "from sklearn.svm import SVC\n"
      ],
      "execution_count": 1,
      "outputs": []
    },
    {
      "cell_type": "code",
      "metadata": {
        "id": "WZ6RD6cNwE79",
        "colab_type": "code",
        "colab": {}
      },
      "source": [
        "dir='/content/drive/My Drive/mini project/images'\n",
        "categories= ['cats','dogs']"
      ],
      "execution_count": 2,
      "outputs": []
    },
    {
      "cell_type": "code",
      "metadata": {
        "id": "ZRNCG5T0wItq",
        "colab_type": "code",
        "colab": {
          "base_uri": "https://localhost:8080/",
          "height": 34
        },
        "outputId": "cce5f02e-1968-4306-bdb5-82d4f9511378"
      },
      "source": [
        "import cv2\n",
        "data=[]\n",
        "for category in categories  :\n",
        "    path=os.path.join(dir,category)\n",
        "    label=categories.index(category)\n",
        "    for img in os.listdir(path):\n",
        "        imgpath=os.path.join(path,img)\n",
        "        pet=cv2.imread(imgpath,0)\n",
        "        try: \n",
        "            pet=cv2.cvtColor(pet,cv2.COLOR_BGR2RGB)\n",
        "            pet=cv2.resize(pet,(64,64))\n",
        "            image=np.array(pet).flatten()\n",
        "            data.append([image,label])\n",
        "        except Exception as e:\n",
        "            pass\n",
        "\n",
        "print(len(data))"
      ],
      "execution_count": 3,
      "outputs": [
        {
          "output_type": "stream",
          "text": [
            "1995\n"
          ],
          "name": "stdout"
        }
      ]
    },
    {
      "cell_type": "code",
      "metadata": {
        "id": "XN-6nypryGbk",
        "colab_type": "code",
        "colab": {}
      },
      "source": [
        "pick_in=open('data.pickle','wb')\n",
        "pickle.dump(data,pick_in)\n",
        "pick_in.close()"
      ],
      "execution_count": 4,
      "outputs": []
    },
    {
      "cell_type": "code",
      "metadata": {
        "id": "XPB8X0cOyOui",
        "colab_type": "code",
        "colab": {}
      },
      "source": [
        "pick_in=open('data.pickle','rb')\n",
        "data = pickle.load(pick_in)\n",
        "pick_in.close()"
      ],
      "execution_count": 5,
      "outputs": []
    },
    {
      "cell_type": "code",
      "metadata": {
        "id": "-McFgcvtySy7",
        "colab_type": "code",
        "colab": {}
      },
      "source": [
        "random.shuffle(data)\n",
        "features = []\n",
        "labels = []"
      ],
      "execution_count": 6,
      "outputs": []
    },
    {
      "cell_type": "code",
      "metadata": {
        "id": "CsztNzq7yane",
        "colab_type": "code",
        "colab": {}
      },
      "source": [
        "for feature ,label in data:\n",
        "  features.append(feature)\n",
        "  labels.append(label)"
      ],
      "execution_count": 7,
      "outputs": []
    },
    {
      "cell_type": "code",
      "metadata": {
        "id": "KTnRDOl2yeA3",
        "colab_type": "code",
        "colab": {}
      },
      "source": [
        "xtrain,xtest,ytrain,ytest = train_test_split(features,labels,test_size= 0.98)"
      ],
      "execution_count": 8,
      "outputs": []
    },
    {
      "cell_type": "code",
      "metadata": {
        "id": "M5nUgELGylY_",
        "colab_type": "code",
        "colab": {
          "base_uri": "https://localhost:8080/",
          "height": 84
        },
        "outputId": "7fbc9fe6-9fc0-4b81-97a1-b3e3a95843be"
      },
      "source": [
        "model=SVC(C=1,gamma='auto',kernel='poly')\n",
        "model.fit(xtrain,ytrain)"
      ],
      "execution_count": 9,
      "outputs": [
        {
          "output_type": "execute_result",
          "data": {
            "text/plain": [
              "SVC(C=1, break_ties=False, cache_size=200, class_weight=None, coef0=0.0,\n",
              "    decision_function_shape='ovr', degree=3, gamma='auto', kernel='poly',\n",
              "    max_iter=-1, probability=False, random_state=None, shrinking=True,\n",
              "    tol=0.001, verbose=False)"
            ]
          },
          "metadata": {
            "tags": []
          },
          "execution_count": 9
        }
      ]
    },
    {
      "cell_type": "code",
      "metadata": {
        "id": "eI2kxcYRysEp",
        "colab_type": "code",
        "colab": {}
      },
      "source": [
        "pick = open('model.sav','wb')\n",
        "pickle.dump(model,pick)\n",
        "pick.close()"
      ],
      "execution_count": 10,
      "outputs": []
    },
    {
      "cell_type": "code",
      "metadata": {
        "id": "-OXlzsS8zafa",
        "colab_type": "code",
        "colab": {}
      },
      "source": [
        "pick = open('model.sav','rb')\n",
        "model = pickle.load(pick)\n",
        "pick.close()"
      ],
      "execution_count": 11,
      "outputs": []
    },
    {
      "cell_type": "code",
      "metadata": {
        "id": "fyZe25gMzen-",
        "colab_type": "code",
        "colab": {}
      },
      "source": [
        "prediction = model.predict(xtest)\n",
        "accuracy = model.score(xtest,ytest)"
      ],
      "execution_count": 12,
      "outputs": []
    },
    {
      "cell_type": "code",
      "metadata": {
        "id": "ya1M-UCrzlfr",
        "colab_type": "code",
        "colab": {
          "base_uri": "https://localhost:8080/",
          "height": 34
        },
        "outputId": "4e6d570a-a9e4-457d-907c-d44c120f8919"
      },
      "source": [
        "\n",
        "print('Prediction  is :',categories[prediction[0]])"
      ],
      "execution_count": 13,
      "outputs": [
        {
          "output_type": "stream",
          "text": [
            "Prediction  is : cats\n"
          ],
          "name": "stdout"
        }
      ]
    },
    {
      "cell_type": "code",
      "metadata": {
        "id": "GfQvmAMZzqV0",
        "colab_type": "code",
        "colab": {
          "base_uri": "https://localhost:8080/",
          "height": 163
        },
        "outputId": "e731f783-8f30-4113-c010-ecad9ae72035"
      },
      "source": [
        "mypet = xtest[0].reshape(64,192)\n",
        "cv2.cvtColor(mypet,cv2.COLOR_BGR2RGB)\n",
        "plt.imshow(mypet)\n",
        "plt.show()"
      ],
      "execution_count": 14,
      "outputs": [
        {
          "output_type": "display_data",
          "data": {
            "image/png": "[encoded data removed]",
            "text/plain": [
              "<Figure size 432x288 with 1 Axes>"
            ]
          },
          "metadata": {
            "tags": [],
            "needs_background": "light"
          }
        }
      ]
    },
    {
      "cell_type": "code",
      "metadata": {
        "id": "DfkUEOmV5D6R",
        "colab_type": "code",
        "colab": {}
      },
      "source": [
        ""
      ],
      "execution_count": 14,
      "outputs": []
    }
  ]
}