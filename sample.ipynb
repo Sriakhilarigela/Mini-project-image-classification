{
  "nbformat": 4,
  "nbformat_minor": 0,
  "metadata": {
    "colab": {
      "name": "sample.ipynb",
      "provenance": [],
      "collapsed_sections": [],
      "mount_file_id": "1WsPV0oKKLOLNPEDD3w7v7YqP294NtX8O",
      "authorship_tag": "ABX9TyP+TlFSLD9P2wkCKyPXEVHb",
      "include_colab_link": true
    },
    "kernelspec": {
      "name": "python3",
      "display_name": "Python 3"
    }
  },
  "cells": [
    {
      "cell_type": "markdown",
      "metadata": {
        "id": "view-in-github",
        "colab_type": "text"
      },
      "source": [
        "<a href=\"https://colab.research.google.com/github/Sriakhilarigela/Mini-project-image-classification/blob/master/sample.ipynb\" target=\"_parent\"><img src=\"https://colab.research.google.com/assets/colab-badge.svg\" alt=\"Open In Colab\"/></a>"
      ]
    },
    {
      "cell_type": "code",
      "metadata": {
        "id": "7vCfIdXlv6zS",
        "colab_type": "code",
        "colab": {}
      },
      "source": [
        "import os\n",
        "import numpy as np\n",
        "import pandas as pd\n",
        "import matplotlib.pyplot as plt\n",
        "import pickle\n",
        "import random\n",
        "from sklearn.model_selection import train_test_split\n",
        "from sklearn.svm import SVC\n"
      ],
      "execution_count": 43,
      "outputs": []
    },
    {
      "cell_type": "code",
      "metadata": {
        "id": "WZ6RD6cNwE79",
        "colab_type": "code",
        "colab": {}
      },
      "source": [
        "dir='/content/drive/My Drive/mini project/images'\n",
        "categories= ['cats','dogs']"
      ],
      "execution_count": 44,
      "outputs": []
    },
    {
      "cell_type": "code",
      "metadata": {
        "id": "ZRNCG5T0wItq",
        "colab_type": "code",
        "colab": {
          "base_uri": "https://localhost:8080/",
          "height": 34
        },
        "outputId": "ceb14870-bcad-4b9c-f72f-dd29b969deae"
      },
      "source": [
        "import cv2\n",
        "data=[]\n",
        "for category in categories  :\n",
        "    path=os.path.join(dir,category)\n",
        "    label=categories.index(category)\n",
        "    for img in os.listdir(path):\n",
        "        imgpath=os.path.join(path,img)\n",
        "        pet=cv2.imread(imgpath,0)\n",
        "        try: \n",
        "            pet=cv2.cvtColor(pet,cv2.COLOR_BGR2RGB)\n",
        "            pet=cv2.resize(pet,(64,64))\n",
        "            image=np.array(pet).flatten()\n",
        "            data.append([image,label])\n",
        "        except Exception as e:\n",
        "            pass\n",
        "\n",
        "print(len(data))"
      ],
      "execution_count": 45,
      "outputs": [
        {
          "output_type": "stream",
          "text": [
            "1995\n"
          ],
          "name": "stdout"
        }
      ]
    },
    {
      "cell_type": "code",
      "metadata": {
        "id": "XN-6nypryGbk",
        "colab_type": "code",
        "colab": {}
      },
      "source": [
        "pick_in=open('data.pickle','wb')\n",
        "pickle.dump(data,pick_in)\n",
        "pick_in.close()"
      ],
      "execution_count": 46,
      "outputs": []
    },
    {
      "cell_type": "code",
      "metadata": {
        "id": "XPB8X0cOyOui",
        "colab_type": "code",
        "colab": {}
      },
      "source": [
        "pick_in=open('data.pickle','rb')\n",
        "data = pickle.load(pick_in)\n",
        "pick_in.close()"
      ],
      "execution_count": 47,
      "outputs": []
    },
    {
      "cell_type": "code",
      "metadata": {
        "id": "-McFgcvtySy7",
        "colab_type": "code",
        "colab": {}
      },
      "source": [
        "random.shuffle(data)\n",
        "features = []\n",
        "labels = []"
      ],
      "execution_count": 48,
      "outputs": []
    },
    {
      "cell_type": "code",
      "metadata": {
        "id": "CsztNzq7yane",
        "colab_type": "code",
        "colab": {}
      },
      "source": [
        "for feature ,label in data:\n",
        "  features.append(feature)\n",
        "  labels.append(label)"
      ],
      "execution_count": 49,
      "outputs": []
    },
    {
      "cell_type": "code",
      "metadata": {
        "id": "KTnRDOl2yeA3",
        "colab_type": "code",
        "colab": {}
      },
      "source": [
        "xtrain,xtest,ytrain,ytest = train_test_split(features,labels,test_size= 0.98)"
      ],
      "execution_count": 50,
      "outputs": []
    },
    {
      "cell_type": "code",
      "metadata": {
        "id": "M5nUgELGylY_",
        "colab_type": "code",
        "colab": {
          "base_uri": "https://localhost:8080/",
          "height": 84
        },
        "outputId": "3e552391-b79a-4e84-b6ac-2d4e14bddc7f"
      },
      "source": [
        "model=SVC(C=1,gamma='auto',kernel='poly')\n",
        "model.fit(xtrain,ytrain)"
      ],
      "execution_count": 51,
      "outputs": [
        {
          "output_type": "execute_result",
          "data": {
            "text/plain": [
              "SVC(C=1, break_ties=False, cache_size=200, class_weight=None, coef0=0.0,\n",
              "    decision_function_shape='ovr', degree=3, gamma='auto', kernel='poly',\n",
              "    max_iter=-1, probability=False, random_state=None, shrinking=True,\n",
              "    tol=0.001, verbose=False)"
            ]
          },
          "metadata": {
            "tags": []
          },
          "execution_count": 51
        }
      ]
    },
    {
      "cell_type": "code",
      "metadata": {
        "id": "eI2kxcYRysEp",
        "colab_type": "code",
        "colab": {}
      },
      "source": [
        "pick = open('model.sav','wb')\n",
        "pickle.dump(model,pick)\n",
        "pick.close()"
      ],
      "execution_count": 52,
      "outputs": []
    },
    {
      "cell_type": "code",
      "metadata": {
        "id": "-OXlzsS8zafa",
        "colab_type": "code",
        "colab": {}
      },
      "source": [
        "pick = open('model.sav','rb')\n",
        "model = pickle.load(pick)\n",
        "pick.close()"
      ],
      "execution_count": 53,
      "outputs": []
    },
    {
      "cell_type": "code",
      "metadata": {
        "id": "fyZe25gMzen-",
        "colab_type": "code",
        "colab": {}
      },
      "source": [
        "prediction = model.predict(xtest)\n",
        "accuracy = model.score(xtest,ytest)"
      ],
      "execution_count": 54,
      "outputs": []
    },
    {
      "cell_type": "code",
      "metadata": {
        "id": "ya1M-UCrzlfr",
        "colab_type": "code",
        "colab": {
          "base_uri": "https://localhost:8080/",
          "height": 50
        },
        "outputId": "5461f8b4-753f-48de-83bc-24b06416781f"
      },
      "source": [
        "print('Accuracy :',accuracy)\n",
        "print('Prediction  is :',categories[prediction[0]])"
      ],
      "execution_count": 55,
      "outputs": [
        {
          "output_type": "stream",
          "text": [
            "Accuracy : 0.47903885480572594\n",
            "Prediction  is : cats\n"
          ],
          "name": "stdout"
        }
      ]
    },
    {
      "cell_type": "code",
      "metadata": {
        "id": "GfQvmAMZzqV0",
        "colab_type": "code",
        "colab": {
          "base_uri": "https://localhost:8080/",
          "height": 163
        },
        "outputId": "f8bf38c7-561b-4f0a-cd33-add954b84035"
      },
      "source": [
        "mypet = xtest[0].reshape(64,192)\n",
        "cv2.cvtColor(mypet,cv2.COLOR_BGR2RGB)\n",
        "plt.imshow(mypet)\n",
        "plt.show()"
      ],
      "execution_count": 56,
      "outputs": [
        {
          "output_type": "display_data",
          "data": {
            "image/png": "[encoded data removed]",
            "text/plain": [
              "<Figure size 432x288 with 1 Axes>"
            ]
          },
          "metadata": {
            "tags": [],
            "needs_background": "light"
          }
        }
      ]
    },
    {
      "cell_type": "code",
      "metadata": {
        "id": "DfkUEOmV5D6R",
        "colab_type": "code",
        "colab": {}
      },
      "source": [
        ""
      ],
      "execution_count": null,
      "outputs": []
    }
  ]
}